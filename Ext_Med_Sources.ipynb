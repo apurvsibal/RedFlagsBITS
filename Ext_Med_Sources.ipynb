{
 "cells": [
  {
   "cell_type": "code",
   "execution_count": 1,
   "id": "7e73d7bc",
   "metadata": {
    "height": 132
   },
   "outputs": [],
   "source": [
    "import os\n",
    "\n",
    "from dotenv import load_dotenv, find_dotenv\n",
    "_ = load_dotenv(find_dotenv()) # read local .env file\n",
    "\n",
    "import warnings\n",
    "warnings.filterwarnings('ignore')"
   ]
  },
  {
   "cell_type": "code",
   "execution_count": 2,
   "id": "efc6c5a4",
   "metadata": {
    "height": 81
   },
   "outputs": [],
   "source": [
    "from langchain.chat_models import ChatOpenAI\n",
    "from langchain.prompts import ChatPromptTemplate\n",
    "from langchain.chains import LLMChain\n",
    "from langchain.chains import SimpleSequentialChain"
   ]
  },
  {
   "cell_type": "code",
   "execution_count": 3,
   "id": "c16cfb4b",
   "metadata": {
    "height": 30
   },
   "outputs": [],
   "source": [
    "llm = ChatOpenAI(temperature=0.0)"
   ]
  },
  {
   "cell_type": "code",
   "execution_count": 4,
   "id": "2412a0e4",
   "metadata": {
    "height": 98
   },
   "outputs": [],
   "source": [
    "first_prompt = ChatPromptTemplate.from_template(\n",
    "    \"Offer links to external medical resources, such as reputable websites or articles, for users to learn more about{input} .\\\n",
    "Include trusted sources like medical journals, research papers, or established healthcare organizations.\"\n",
    ")"
   ]
  },
  {
   "cell_type": "code",
   "execution_count": 5,
   "id": "f173a27f",
   "metadata": {
    "height": 30
   },
   "outputs": [],
   "source": [
    "chain_one = LLMChain(llm=llm, prompt=first_prompt)"
   ]
  },
  {
   "cell_type": "code",
   "execution_count": 6,
   "id": "0c291f46",
   "metadata": {
    "height": 98
   },
   "outputs": [],
   "source": [
    "second_prompt = ChatPromptTemplate.from_template(\n",
    "    \"Extracts relevant information from {links} and help the person understand about their condition.\"\n",
    ")\n",
    "# chain 2\n",
    "chain_two = LLMChain(llm=llm, prompt=second_prompt)"
   ]
  },
  {
   "cell_type": "code",
   "execution_count": 12,
   "id": "71663e9a",
   "metadata": {
    "height": 30
   },
   "outputs": [],
   "source": [
    "overall_simple_chain = SimpleSequentialChain(chains=[chain_one, chain_two],verbose=True)"
   ]
  },
  {
   "cell_type": "code",
   "execution_count": 16,
   "id": "64af74a0",
   "metadata": {
    "height": 47
   },
   "outputs": [
    {
     "name": "stdout",
     "output_type": "stream",
     "text": [
      "\n",
      "\n",
      "\u001b[1m> Entering new SimpleSequentialChain chain...\u001b[0m\n",
      "\u001b[36;1m\u001b[1;3m1. American Heart Association: https://www.heart.org/en/health-topics/high-blood-pressure\n",
      "2. Mayo Clinic: https://www.mayoclinic.org/diseases-conditions/high-blood-pressure/symptoms-causes/syc-20373410\n",
      "3. National Heart, Lung, and Blood Institute: https://www.nhlbi.nih.gov/health-topics/high-blood-pressure\n",
      "4. Centers for Disease Control and Prevention: https://www.cdc.gov/bloodpressure/index.htm\n",
      "5. Harvard Health Publishing: https://www.health.harvard.edu/topics/high-blood-pressure\n",
      "6. Journal of the American Medical Association: https://jamanetwork.com/journals/jama/pages/high-blood-pressure\n",
      "7. New England Journal of Medicine: https://www.nejm.org/doi/full/10.1056/NEJMcp1801119\n",
      "8. Hypertension: https://www.ahajournals.org/topic/hypertension\n",
      "9. British Heart Foundation: https://www.bhf.org.uk/informationsupport/risk-factors/high-blood-pressure\n",
      "10. World Health Organization: https://www.who.int/news-room/fact-sheets/detail/hypertension\u001b[0m\n",
      "\u001b[33;1m\u001b[1;3mHigh blood pressure, also known as hypertension, is a common condition that affects many people worldwide. It occurs when the force of blood against the walls of the arteries is too high, which can lead to serious health problems such as heart disease, stroke, and kidney failure.\n",
      "\n",
      "According to the American Heart Association, high blood pressure is defined as a reading of 130/80 mm Hg or higher. Risk factors for developing high blood pressure include age, family history, obesity, smoking, and a diet high in salt and low in potassium.\n",
      "\n",
      "Symptoms of high blood pressure may not be noticeable, but can include headaches, shortness of breath, and nosebleeds. It is important to get regular blood pressure checks and to make lifestyle changes such as exercising regularly, eating a healthy diet, and quitting smoking to help manage high blood pressure.\n",
      "\n",
      "Treatment for high blood pressure may include medication, lifestyle changes, and monitoring blood pressure regularly. It is important to work with a healthcare provider to develop a personalized treatment plan.\n",
      "\n",
      "Overall, understanding and managing high blood pressure is crucial for maintaining good health and preventing serious complications.\u001b[0m\n",
      "\n",
      "\u001b[1m> Finished chain.\u001b[0m\n"
     ]
    },
    {
     "data": {
      "text/plain": [
       "'High blood pressure, also known as hypertension, is a common condition that affects many people worldwide. It occurs when the force of blood against the walls of the arteries is too high, which can lead to serious health problems such as heart disease, stroke, and kidney failure.\\n\\nAccording to the American Heart Association, high blood pressure is defined as a reading of 130/80 mm Hg or higher. Risk factors for developing high blood pressure include age, family history, obesity, smoking, and a diet high in salt and low in potassium.\\n\\nSymptoms of high blood pressure may not be noticeable, but can include headaches, shortness of breath, and nosebleeds. It is important to get regular blood pressure checks and to make lifestyle changes such as exercising regularly, eating a healthy diet, and quitting smoking to help manage high blood pressure.\\n\\nTreatment for high blood pressure may include medication, lifestyle changes, and monitoring blood pressure regularly. It is important to work with a healthcare provider to develop a personalized treatment plan.\\n\\nOverall, understanding and managing high blood pressure is crucial for maintaining good health and preventing serious complications.'"
      ]
     },
     "execution_count": 16,
     "metadata": {},
     "output_type": "execute_result"
    }
   ],
   "source": [
    "input = \"high blood pressure\"\n",
    "overall_simple_chain.run(input)"
   ]
  },
  {
   "cell_type": "code",
   "execution_count": null,
   "id": "063ea98a",
   "metadata": {
    "height": 30
   },
   "outputs": [],
   "source": []
  }
 ],
 "metadata": {
  "kernelspec": {
   "display_name": "Python 3 (ipykernel)",
   "language": "python",
   "name": "python3"
  },
  "language_info": {
   "codemirror_mode": {
    "name": "ipython",
    "version": 3
   },
   "file_extension": ".py",
   "mimetype": "text/x-python",
   "name": "python",
   "nbconvert_exporter": "python",
   "pygments_lexer": "ipython3",
   "version": "3.9.16"
  }
 },
 "nbformat": 4,
 "nbformat_minor": 5
}
