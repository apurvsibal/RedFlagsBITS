{
 "cells": [
  {
   "cell_type": "code",
   "execution_count": null,
   "id": "e37dc161",
   "metadata": {
    "height": 132
   },
   "outputs": [],
   "source": [
    "import os\n",
    "\n",
    "from dotenv import load_dotenv, find_dotenv\n",
    "_ = load_dotenv(find_dotenv()) # read local .env file\n",
    "\n",
    "import warnings\n",
    "warnings.filterwarnings('ignore')"
   ]
  },
  {
   "cell_type": "code",
   "execution_count": null,
   "id": "42a7684f",
   "metadata": {
    "height": 81
   },
   "outputs": [],
   "source": [
    "from langchain.chat_models import ChatOpenAI\n",
    "from langchain.prompts import ChatPromptTemplate\n",
    "from langchain.chains import LLMChain\n",
    "from langchain.chains import SequentialChain"
   ]
  },
  {
   "cell_type": "code",
   "execution_count": null,
   "id": "2ff197b3",
   "metadata": {
    "height": 30
   },
   "outputs": [],
   "source": [
    "llm = ChatOpenAI(temperature=0.0)"
   ]
  },
  {
   "cell_type": "code",
   "execution_count": null,
   "id": "f746c281",
   "metadata": {
    "height": 115
   },
   "outputs": [],
   "source": [
    "first_prompt = ChatPromptTemplate.from_template(\n",
    "    \"Offer Links to external medical resources, such as reputable websites or articles, for users to learn more about\"\n",
    "    \"the following medical condition. Include trusted sources like medical journals, research papers, or established\"\n",
    "    \"healthcare organizations. Print every link in a new line\"\n",
    "    \"\\n\\nMedical Condition: {input}\"\n",
    ")"
   ]
  },
  {
   "cell_type": "code",
   "execution_count": null,
   "id": "c8258c15",
   "metadata": {
    "height": 30
   },
   "outputs": [],
   "source": [
    "chain_one = LLMChain(llm=llm, prompt=first_prompt, output_key=\"Links\")"
   ]
  },
  {
   "cell_type": "code",
   "execution_count": null,
   "id": "f33dc7e4",
   "metadata": {
    "height": 98
   },
   "outputs": [],
   "source": [
    "second_prompt = ChatPromptTemplate.from_template(\n",
    "    \"Extracts relevant information in about 100 words about entered medical condition from the medical resources\" \n",
    "    \"and help the person understand about their condition.\"\n",
    "    \"\\n\\nMedical condition: {input}\\n\\nMedical resources: {Links}\"\n",
    ")"
   ]
  },
  {
   "cell_type": "code",
   "execution_count": null,
   "id": "44feb664",
   "metadata": {
    "height": 30
   },
   "outputs": [],
   "source": [
    "chain_two = LLMChain(llm=llm, prompt=second_prompt, output_key=\"Info\")"
   ]
  },
  {
   "cell_type": "code",
   "execution_count": null,
   "id": "da802e90",
   "metadata": {
    "height": 47
   },
   "outputs": [],
   "source": [
    "overall_chain = SequentialChain(chains=[chain_one, chain_two],input_variables=[\"input\"],\n",
    "                                             output_variables=[\"Links\",\"Info\"],verbose=True)"
   ]
  },
  {
   "cell_type": "code",
   "execution_count": null,
   "id": "cd5a2b52",
   "metadata": {
    "height": 47
   },
   "outputs": [],
   "source": [
    "input = \"knee pain\"\n",
    "overall_chain(input)"
   ]
  }
 ],
 "metadata": {
  "kernelspec": {
   "display_name": "Python 3 (ipykernel)",
   "language": "python",
   "name": "python3"
  },
  "language_info": {
   "codemirror_mode": {
    "name": "ipython",
    "version": 3
   },
   "file_extension": ".py",
   "mimetype": "text/x-python",
   "name": "python",
   "nbconvert_exporter": "python",
   "pygments_lexer": "ipython3",
   "version": "3.9.16"
  }
 },
 "nbformat": 4,
 "nbformat_minor": 5
}
